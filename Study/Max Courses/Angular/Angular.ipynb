{
 "cells": [
  {
   "cell_type": "markdown",
   "metadata": {},
   "source": [
    "# **Section 9:**\n",
    "## **107: Using services and dependency injection**\n",
    "\n",
    "- What is a service?\n",
    "<img src=\"./imgs/1.png\" />\n",
    "\n",
    "- if we want log date from about component and user details component, we can create a service and inject it into both components instead of duplicating the code in both components. so we use providers data instead of duplicating the code.\n",
    "\n",
    "- **108: Why would you need a service?**\n",
    "  - if we want to share data between components, we can use service.\n",
    "\n",
    "### **109: Creating a logging service**"
   ]
  },
  {
   "cell_type": "code",
   "execution_count": null,
   "metadata": {
    "vscode": {
     "languageId": "ruby"
    }
   },
   "outputs": [],
   "source": [
    "# in LoggingService.ts\n",
    "export class LoggingService {\n",
    "  logStatusChange(status: string) {\n",
    "    console.log('A server status changed, new status: ' + status);\n",
    "  }\n",
    "}\n",
    "\n",
    "# in new-account.component.ts\n",
    "@Component({\n",
    "  selector: 'app-new-account',\n",
    "  templateUrl: './new-account.component.html',\n",
    "  styleUrls: ['./new-account.component.css']\n",
    "})\n",
    "export class NewAccountComponent {\n",
    "  @Output() accountAdded = new EventEmitter<{name: string, status: string}>();\n",
    "\n",
    "  onCreateAccount(accountName: string, accountStatus: string) {\n",
    "    this.accountAdded.emit({\n",
    "      name: accountName,\n",
    "      status: accountStatus\n",
    "    });\n",
    "    # console.log('A server status changed, new status: ' + accountStatus);\n",
    "    const service = new LoggingService();\n",
    "    service.logStatusChange(accountStatus);\n",
    "  }\n",
    "}"
   ]
  },
  {
   "cell_type": "markdown",
   "metadata": {},
   "source": [
    "- But this way doesn't good because we have to create a new `instance` of this service in each component. but angular has a better way to do this."
   ]
  },
  {
   "cell_type": "code",
   "execution_count": null,
   "metadata": {
    "vscode": {
     "languageId": "ruby"
    }
   },
   "outputs": [],
   "source": [
    "# in new-account.component.ts\n",
    "@Component({\n",
    "  selector: 'app-new-account',\n",
    "  templateUrl: './new-account.component.html',\n",
    "  styleUrls: ['./new-account.component.css']\n",
    "})\n",
    "export class NewAccountComponent {\n",
    "  @Output() accountAdded = new EventEmitter<{name: string, status: string}>();\n",
    "  # loggingService?: LoggingService;\n",
    "  constructor(private loggingService: LoggingService) {}\n",
    "\n",
    "  onCreateAccount(accountName: string, accountStatus: string) {\n",
    "    this.accountAdded.emit({\n",
    "      name: accountName,\n",
    "      status: accountStatus\n",
    "    });\n",
    "    # console.log('A server status changed, new status: ' + accountStatus);\n",
    "    # const service = new LoggingService();\n",
    "    # service.logStatusChange(accountStatus);\n",
    "    this.loggingService.logStatusChange(accountStatus);\n",
    "    #! Ther another way to inject service using @inject\n",
    "    # this.loggingService = @inject(LoggingService);\n",
    "  }\n",
    "}"
   ]
  },
  {
   "cell_type": "markdown",
   "metadata": {},
   "source": [
    "- In this case service not working because hierarchy of components is not correct. in this case we override of `providers` in `app.component.ts`. so we have to remove `providers` from `account.component.ts` and `new-account.component.ts` \n",
    "\n",
    "\n",
    "<img src=\"./imgs/2.png\" />\n",
    "\n"
   ]
  },
  {
   "cell_type": "markdown",
   "metadata": {},
   "source": [
    "## **115: Injecting Service into Services**\n",
    "- We don't add @Injectable to the service you want to inject, but to the service where you want to inject something. So the receiving service you could say, that to be injected in service.\n",
    "\n",
    "- To make all application have the same instance of the service unless it overrides we provide the service insider Provider array in out appModule\n",
    "\n",
    "## **116: Using Services for Cross-Component Communication**\n",
    "  - We can use service for cross-component communication. for example we can use service for cross-component communication between `account.component.ts` and `new-account.component.ts` instead of using `@Output` and `@Input` decorator.\n",
    "\n",
    "Example:\n",
    "```ts"
   ]
  },
  {
   "cell_type": "code",
   "execution_count": null,
   "metadata": {
    "vscode": {
     "languageId": "ruby"
    }
   },
   "outputs": [],
   "source": [
    "# In AccountService.ts\n",
    "statusUpdate = new EventEmitter<string>;\n",
    "\n",
    "# In Account.Component.ts\n",
    "this.accountsService.statusUpdate.emit(status)\n",
    "\n",
    "# In new-account.component.ts\n",
    "constructor(private accountsService: AccountsService) {\n",
    "  this.accountsService.statusUpdate.subscribe(\n",
    "  (status: string) => alert('New Status ' + status)\n",
    "  )\n",
    "}"
   ]
  },
  {
   "cell_type": "markdown",
   "metadata": {},
   "source": [
    "# **Section 11: Changing Pages With Routing**\n",
    "\n",
    "### **130 setting up and loading routes**\n",
    "- we create our routes in `app.module.ts` file using Routes array and `RouterModule.forRoot()` method.\n",
    "- We can use `RouterModule.forRoot()` to define routes in `app.module.ts` file.\n",
    "- We can use `RouterModule.forChild()` to define routes in feature module.\n",
    "- We can use `routerLink` directive to navigate between routes.\n",
    "- We can use `router-outlet` directive to load component based on the route.\n",
    "\n",
    "\n",
    "### **131: Understanding Navigation Paths**\n",
    "- We can use `routerLink` directive to navigate between routes.\n",
    "- We can use absolute path and relative path to navigate between routes.\n",
    "  - Absolute path: `/servers`\n",
    "  - Relative path: `servers`\n",
    "  - `./servers`  means current path\n",
    "  - `../servers` means parent path. "
   ]
  }
 ],
 "metadata": {
  "language_info": {
   "name": "python"
  }
 },
 "nbformat": 4,
 "nbformat_minor": 2
}
